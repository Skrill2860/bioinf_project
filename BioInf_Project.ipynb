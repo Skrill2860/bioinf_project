{
  "cells": [
    {
      "cell_type": "code",
      "execution_count": 4,
      "metadata": {
        "colab": {
          "base_uri": "https://localhost:8080/"
        },
        "id": "jbh9ePRIirMh",
        "outputId": "8bb8f189-90f9-4505-b37d-38afe52326d2"
      },
      "outputs": [
        {
          "output_type": "stream",
          "name": "stdout",
          "text": [
            "Collecting biopython\n",
            "  Downloading biopython-1.83-cp310-cp310-manylinux_2_17_x86_64.manylinux2014_x86_64.whl (3.1 MB)\n",
            "\u001b[2K     \u001b[90m━━━━━━━━━━━━━━━━━━━━━━━━━━━━━━━━━━━━━━━━\u001b[0m \u001b[32m3.1/3.1 MB\u001b[0m \u001b[31m2.2 MB/s\u001b[0m eta \u001b[36m0:00:00\u001b[0m\n",
            "\u001b[?25hRequirement already satisfied: numpy in /usr/local/lib/python3.10/dist-packages (from biopython) (1.25.2)\n",
            "Installing collected packages: biopython\n",
            "Successfully installed biopython-1.83\n",
            "Collecting bcbio-gff\n",
            "  Downloading bcbio_gff-0.7.1-py3-none-any.whl (16 kB)\n",
            "Requirement already satisfied: six in /usr/local/lib/python3.10/dist-packages (from bcbio-gff) (1.16.0)\n",
            "Requirement already satisfied: biopython in /usr/local/lib/python3.10/dist-packages (from bcbio-gff) (1.83)\n",
            "Requirement already satisfied: numpy in /usr/local/lib/python3.10/dist-packages (from biopython->bcbio-gff) (1.25.2)\n",
            "Installing collected packages: bcbio-gff\n",
            "Successfully installed bcbio-gff-0.7.1\n"
          ]
        }
      ],
      "source": [
        "# Установка необходимых библиотек\n",
        "!pip install biopython\n",
        "!pip install bcbio-gff"
      ]
    },
    {
      "cell_type": "code",
      "execution_count": 6,
      "metadata": {
        "id": "-TN-EcvEqzom"
      },
      "outputs": [],
      "source": [
        "main_fasta_filename = \"/content/ncbi_dataset/data/GCA_017916305.1/GCA_017916305.1_LU_Lenr_1.0_genomic.fna\"\n",
        "dna_seq_filename = \"dnaSeq.txt\"\n",
        "annotation_filename = \"/content/ncbi_dataset/data/GCA_017916305.1/genomic.gff\""
      ]
    },
    {
      "cell_type": "code",
      "execution_count": 7,
      "metadata": {
        "colab": {
          "base_uri": "https://localhost:8080/"
        },
        "id": "1aY2NrlhjIyo",
        "outputId": "ddbbe60b-91f4-4f94-aae0-4e2b5ea59105"
      },
      "outputs": [
        {
          "output_type": "stream",
          "name": "stdout",
          "text": [
            "CM030576.1\n",
            "Seq('TCGCCGCATCGGTGCAGCAGATGGCGTCGTACGCGCTGTCGTCATGGGTGGCCA...gga')\n",
            "263205\n",
            "263205\n",
            "CM030577.1\n",
            "Seq('gtgagctgctggcgctcctgctgGCCGCATGCGTTGAACAGCACTCCTCCACAT...AAT')\n",
            "458352\n",
            "458352\n",
            "CM030578.1\n",
            "Seq('GATCTCGTGCGCTCGTGGGCCCGAAGCGCTAGCGACAATGgcacctctgtgtgt...gca')\n",
            "413733\n",
            "413733\n",
            "CM030579.1\n",
            "Seq('CTTAATTCTGACTTGACCTGACTCGACTTGACTTGACTTTAAttcttaatttta...TCT')\n",
            "502684\n",
            "502684\n",
            "CM030580.1\n",
            "Seq('AAAAAAATTCCAAAAAAAATTCCAAAAAAAAGCGACTAACAAACACAACTGATG...ACT')\n",
            "491206\n",
            "491206\n",
            "CM030581.1\n",
            "Seq('TTgacttgactttaattttaactttaactttaattttaattttaattttaattt...GGC')\n",
            "524723\n",
            "524723\n",
            "CM030582.1\n",
            "Seq('TTTCGTTTCTGCATGCATCTTTCTTATCTCATGTACTCTCTGGTCCAGCCAGCG...GCG')\n",
            "676625\n",
            "676625\n",
            "CM030583.1\n",
            "Seq('TTGAGGGGATtatggaggcacacaacgcggccgctaaggcagccgcacgccgcc...TTT')\n",
            "509413\n",
            "509413\n",
            "CM030584.1\n",
            "Seq('ACCCCCATCgcaccgtttctctctctctctgaaacgtcgacgagggactcggca...GAG')\n",
            "646429\n",
            "646429\n",
            "CM030585.1\n",
            "Seq('CACGCGGATTCagcagtggtgctgctgaacgGTGAAGCCGACagggcacacgca...gta')\n",
            "638765\n",
            "638765\n",
            "CM030586.1\n",
            "Seq('CGACGAGCGTCAACGCGGGGCGACTCTGTCGAcgcgatctctgctgacttGGCT...aaa')\n",
            "651262\n",
            "651262\n",
            "CM030587.1\n",
            "Seq('AGCcaaagtgctcgcgcgccttctgcaccaccgcaggGCTTTTGAGCACGGGAA...CCT')\n",
            "497208\n",
            "497208\n",
            "CM030588.1\n",
            "Seq('GTgtagcccgcgcccgccCCAGAGCTCAtcggtgccgacgtacggctgcgcgct...ACG')\n",
            "690181\n",
            "690181\n",
            "CM030589.1\n",
            "Seq('GATTGTCAGCGACCACAGTGGTGGTCTGGTCACCTGCAcagaggaggacattct...taa')\n",
            "663291\n",
            "663291\n",
            "CM030590.1\n",
            "Seq('TAATTTTAATTTattaattttaatttaatattttaattttaatttctAATTTAA...TCT')\n",
            "618277\n",
            "618277\n",
            "CM030591.1\n",
            "Seq('AAAAAAAGGTACCAAAAAAAACATCGTCGTGAGTAGTGAACCGTAACCCCTAAC...GGT')\n",
            "709397\n",
            "709397\n",
            "CM030592.1\n",
            "Seq('TTTTAATTTAGACTTGACTTGgacttgactttaatttgacttagACTTTaatct...agg')\n",
            "737040\n",
            "737040\n",
            "CM030593.1\n",
            "Seq('AGCGGCATCACAGGAGTGacgcggcgtgccgcaggTGGCTTAGAGGTGCCGGTC...GGT')\n",
            "712239\n",
            "712239\n",
            "CM030594.1\n",
            "Seq('GGCATTGCCCTCACGGCTtctaggtgcagcggcgtggtgtgcttcaggtgcagg...AGA')\n",
            "727973\n",
            "727973\n",
            "CM030595.1\n",
            "Seq('GTTAAAGTTAAAGTTAGAGTTAgagttaaattaaattaaagttaagttaaatta...TTT')\n",
            "739176\n",
            "739176\n",
            "CM030596.1\n",
            "Seq('attaatttaattttaactaCTCATCTGTCTGAGCTCCAGAATGACTTTAAATTC...ACG')\n",
            "789958\n",
            "789958\n",
            "CM030597.1\n",
            "Seq('TACCGTGAgctcgcatgtgtgcgtcctgtCGATGCATGGGAGTATGCCGTCGAT...AAA')\n",
            "742868\n",
            "742868\n",
            "CM030598.1\n",
            "Seq('ttaattttaatttaattttaatttaattttacTTACCTcaattctaatttaatt...cag')\n",
            "797089\n",
            "797089\n",
            "CM030599.1\n",
            "Seq('CACCCCCATCgcaccgtttctctctctctctgaaacgtcgacgagggactcggc...TAA')\n",
            "887063\n",
            "887063\n",
            "CM030600.1\n",
            "Seq('TTGTACCGGGTGTGATGGTGCGGAATGGAACACCGTGAGCTCGTATGTGTTTTC...CGC')\n",
            "977124\n",
            "977124\n",
            "CM030601.1\n",
            "Seq('acggccgttgccggagggCATGTGCGGGCCGAACACACTCTCTGTTCTAGAGAG...GCA')\n",
            "1075649\n",
            "1075649\n",
            "CM030602.1\n",
            "Seq('taactttaattttaattttaattttaatttaattttaattcgACTTATTTATGA...GCC')\n",
            "1126291\n",
            "1126291\n",
            "CM030603.1\n",
            "Seq('ttaatttaactttaattttaattttaatttaattttaattttaattttaattta...GGG')\n",
            "1221382\n",
            "1221382\n",
            "CM030604.1\n",
            "Seq('ACCTATCCGCGTGGGCGCTGCGGATCGCGTGTGTGCCCTGTGCACGAGTGGTGT...ATT')\n",
            "1164329\n",
            "1164329\n",
            "CM030605.1\n",
            "Seq('tttaattttaatttgacttaattttaatttaatttaattttaatttaatttaat...AGA')\n",
            "1361792\n",
            "1361792\n",
            "CM030606.1\n",
            "Seq('aatttaatttaatttaattttaattttaattttaattctaattttaattttaat...AGC')\n",
            "1548039\n",
            "1548039\n",
            "CM030607.1\n",
            "Seq('GACGAagggcccaccactaagtataagCACACCCACGAACGGAGAAAGCACGCA...gtt')\n",
            "1531269\n",
            "1531269\n",
            "CM030608.1\n",
            "Seq('AAAAAAGGTACCAAAAAACATCGTCGTGAGTAgtcttaattttaatttaatttt...CAG')\n",
            "1552011\n",
            "1552011\n",
            "CM030609.1\n",
            "Seq('cctaaccctaaccctaaccctaaccctaaccctaaccctaacccgcGCATTGAT...ggg')\n",
            "1742593\n",
            "1742593\n",
            "CM030610.1\n",
            "Seq('GACGTCCAGCATCGTTTACGGCACAGCTGTACCGCCAGCACatcgcacaccagc...ttg')\n",
            "2123404\n",
            "2123404\n",
            "CM030611.1\n",
            "Seq('GAATGGCATCCGCATGCATCGTCACGTCCTCCACGttcacgcgcacaccgcgCA...ACA')\n",
            "2730217\n",
            "2730217\n",
            "\n",
            "31.70 MB\n"
          ]
        }
      ],
      "source": [
        "from Bio import SeqIO\n",
        "res = \"\"\n",
        "count = 0\n",
        "for record in SeqIO.parse(main_fasta_filename, \"fasta\"):\n",
        "    res += str(record.seq)\n",
        "    print(record.id)\n",
        "    print(repr(record.seq))\n",
        "    print(len(record))\n",
        "    print(len(record.seq))\n",
        "print()\n",
        "print(f\"{len(res) / 1024 / 1024:.2f} MB\")\n",
        "with open(dna_seq_filename, \"w\") as f:\n",
        "    f.write(res.upper())"
      ]
    },
    {
      "cell_type": "code",
      "execution_count": null,
      "metadata": {
        "colab": {
          "base_uri": "https://localhost:8080/"
        },
        "id": "TtUt7mPljiNZ",
        "outputId": "e20c5698-43fe-49b3-ac6d-b19168d9d353"
      },
      "outputs": [
        {
          "name": "stdout",
          "output_type": "stream",
          "text": [
            "b'dinucleotides 12\\r\\nmin/max 8 12\\r\\nmin/max 8 12\\r\\noperating on dnaSeq.txt\\r\\ncalculating zscore\\r\\nopening dnaSeq.txt\\r\\ninputting sequence\\r\\nopening dnaSeq.txt.Z-SCORE\\r\\n\\r\\n run time=1718553843 sec\\r\\nuse min/max 8 12\\r\\nanalyzing_zscore\\r\\nopening dnaSeq.txt.Z-SCORE\\r\\nopening dnaSeq.txt\\r\\ninputting sequence\\r\\n'\n"
          ]
        }
      ],
      "source": [
        "#with open(\"otterDnaSeq.txt\", \"w\") as f:\n",
        "#    f.write(\"A\")\n",
        "import subprocess\n",
        "result = subprocess.run([\"zhunt3.exe\", \"12\", \"8\", \"12\", dna_seq_filename], stdout=subprocess.PIPE)\n",
        "print(result.stdout)"
      ]
    },
    {
      "cell_type": "code",
      "execution_count": 26,
      "metadata": {
        "colab": {
          "base_uri": "https://localhost:8080/"
        },
        "id": "e1qBNb1PjjBY",
        "outputId": "a204e436-6793-4a94-fd90-da7f49d19dec"
      },
      "outputs": [
        {
          "output_type": "stream",
          "name": "stdout",
          "text": [
            "data read: 57.87 MB\n"
          ]
        }
      ],
      "source": [
        "# prepping z-score file for parsing\n",
        "z_score_filename = \"zhunt_results_filtered_1k.csv\"\n",
        "with open(z_score_filename, \"r\") as f:\n",
        "    f.readline()\n",
        "    datastr = f.read()\n",
        "print(f\"data read: {len(datastr) / 1024 / 1024:.2f} MB\")"
      ]
    },
    {
      "cell_type": "code",
      "execution_count": null,
      "metadata": {
        "id": "XeUvLc-_qzoo",
        "outputId": "1750ebb2-4e3f-41ba-dad3-fd60c7e9cf24"
      },
      "outputs": [
        {
          "name": "stdout",
          "output_type": "stream",
          "text": [
            "Writing tsv file: 1.37 MB\n"
          ]
        }
      ],
      "source": [
        "# writing z-score file without heading\n",
        "# print(f\"Writing tsv file: {len(datastr) / 1024 / 1024:.2f} MB\")\n",
        "# with open(f\"{dna_seq_filename}.Z-SCORE.tsv\", \"w\") as f:\n",
        "#     f.write(datastr)"
      ]
    },
    {
      "cell_type": "code",
      "execution_count": 31,
      "metadata": {
        "colab": {
          "base_uri": "https://localhost:8080/"
        },
        "id": "hqBbu-Vzqzoo",
        "outputId": "79a6532f-b852-462c-f24a-9c98689f9039"
      },
      "outputs": [
        {
          "output_type": "stream",
          "name": "stdout",
          "text": [
            "Reading csv file\n",
            "647793\n",
            "59109\n"
          ]
        }
      ],
      "source": [
        "print(f\"Reading csv file\")\n",
        "z_dna_datas = list()\n",
        "with open(z_score_filename, \"r\") as f:\n",
        "    for line in f:\n",
        "        d = line.split()\n",
        "        if len(d) < 6:\n",
        "            continue\n",
        "        data = list(map(int, d[:2]))\n",
        "        z_dna_datas.append(data)\n",
        "print(len(z_dna_datas))\n",
        "\n",
        "# group adjacent regions\n",
        "z_dna_grouped = list()\n",
        "z_dna_grouped.append(z_dna_datas[0])\n",
        "last_left_idx = z_dna_grouped[0][1]\n",
        "for i in range(1, len(z_dna_datas)):\n",
        "    if z_dna_datas[i][0] > z_dna_datas[i - 1][1]:\n",
        "        z_dna_grouped.append(z_dna_datas[i])\n",
        "        last_left_idx = z_dna_datas[i][1]\n",
        "    else:\n",
        "        if (z_dna_datas[i][0] > last_left_idx):\n",
        "            last_left_idx = z_dna_datas[i][1]\n",
        "            z_dna_grouped.append(z_dna_datas[i])\n",
        "print(len(z_dna_grouped))\n",
        "# use grouped z-dnas\n",
        "z_dna_datas = z_dna_grouped"
      ]
    },
    {
      "cell_type": "code",
      "execution_count": 11,
      "metadata": {
        "colab": {
          "base_uri": "https://localhost:8080/"
        },
        "id": "8kMfnuBRqzop",
        "outputId": "b8814a2c-92b2-4f28-8c02-91ff33d74d8e"
      },
      "outputs": [
        {
          "output_type": "stream",
          "name": "stdout",
          "text": [
            "+ strand : 4417\n",
            "- strand : 4478\n",
            "checker : 405235\n"
          ]
        }
      ],
      "source": [
        "# count quadruplexes\n",
        "import re\n",
        "\n",
        "pattern_G = \"(?:G{3,}[ATGC]{1,7}){3,}G{3,}\"\n",
        "pattern_C = \"(?:C{3,}[ATGC]{1,7}){3,}C{3,}\"\n",
        "pattern_checker = \"GGG\"\n",
        "\n",
        "with open(dna_seq_filename, 'r') as f:\n",
        "    dna_seq = f.read()\n",
        "    PQS=[[m.start(),m.end(),m.group(0)] for m in re.finditer(pattern_G,dna_seq,re.IGNORECASE)]\n",
        "    print(\"+ strand :\", len(PQS))\n",
        "    quad_on_plus = PQS\n",
        "    PQS=[[m.start(),m.end(),m.group(0)] for m in re.finditer(pattern_C,dna_seq,re.IGNORECASE)]\n",
        "    print(\"- strand :\", len(PQS))\n",
        "    quad_on_minus = PQS\n",
        "    PQS=[[m.start(),m.end(),m.group(0)] for m in re.finditer(pattern_checker,dna_seq,re.IGNORECASE)]\n",
        "    print(\"checker :\", len(PQS))"
      ]
    },
    {
      "cell_type": "code",
      "execution_count": 22,
      "metadata": {
        "id": "3ujqkPgNqzop"
      },
      "outputs": [],
      "source": [
        "genes_data = []\n",
        "exons_data = []\n",
        "chromosome_sizes = []\n",
        "global_offset = 0\n",
        "stored_prev_range_offset = 0\n",
        "with open(annotation_filename, 'r') as f:\n",
        "    for line in f.readlines():\n",
        "        if line.startswith(\"#\"):\n",
        "            continue\n",
        "\n",
        "        # 2 - type 3 - begin 4 - end 6 - strand\n",
        "        data = line.strip(\"\\n\").split(\"\\t\")\n",
        "        if data[2] == 'region':\n",
        "            chromosome_sizes.append(int(data[4]))\n",
        "            global_offset += stored_prev_range_offset\n",
        "            stored_prev_range_offset = int(data[4])\n",
        "            continue\n",
        "        if data[2] == 'exon':\n",
        "            exons_data.append([data[6], global_offset + int(data[3]), global_offset + int(data[4])])\n",
        "            continue\n",
        "        if data[2] == 'gene':\n",
        "            genes_data.append([data[6], global_offset + int(data[3]), global_offset + int(data[4])])\n",
        "            continue\n",
        "\n",
        "gene_downstream_regions = [[gene_data[2], gene_data[2] + 200] if (gene_data[0] == \"+\") else [gene_data[1] - 200, gene_data[1]] for gene_data in genes_data]\n",
        "gene_promoter_regions = [[gene_data[1] - 1000, gene_data[1]] if (gene_data[0] == \"+\") else [gene_data[2], gene_data[2] + 1000] for gene_data in genes_data]\n",
        "in_gene_regions = [[gene_data[1], gene_data[2]] for gene_data in genes_data]\n",
        "exon_regions = [[exon_data[1], exon_data[2]] for exon_data in exons_data]"
      ]
    },
    {
      "cell_type": "code",
      "execution_count": 32,
      "metadata": {
        "colab": {
          "base_uri": "https://localhost:8080/"
        },
        "id": "Zkvx8GRVqzop",
        "outputId": "1d64f878-ca58-4a1b-8860-a3475d48f34b"
      },
      "outputs": [
        {
          "output_type": "stream",
          "name": "stdout",
          "text": [
            "In exons: 19351 доля: 0.3273782334331489\n",
            "In promoters: 17722 доля: 0.29981897849735234\n",
            "In downstream: 3150 доля: 0.05329137694767294\n",
            "In intergenic space: 20252 доля: 0.34262125902992774\n",
            "In dna: 20413 доля: 0.3453450405183644\n"
          ]
        }
      ],
      "source": [
        "def bin_search_has_region(segment, regions):\n",
        "    l = 0\n",
        "    r = len(regions)\n",
        "    middle_of_segment = (segment[0] + segment[1]) / 2\n",
        "    while(True):\n",
        "        if (l >= r):\n",
        "            return False\n",
        "        middle = (l + r) // 2\n",
        "        if (regions[middle][0] <= middle_of_segment <= regions[middle][1]):\n",
        "            return True\n",
        "        if (middle_of_segment < regions[middle][0]):\n",
        "            r = middle\n",
        "        else:\n",
        "            l = middle + 1\n",
        "\n",
        "in_dna_count = 0\n",
        "in_promoter_count = 0\n",
        "in_downstream_count = 0\n",
        "in_exon_count = 0\n",
        "in_intergenic_count = 0\n",
        "\n",
        "for z_dna in z_dna_datas:\n",
        "    inSomewhere = False\n",
        "    if bin_search_has_region(z_dna, gene_promoter_regions):\n",
        "        in_promoter_count += 1\n",
        "        inSomewhere = True\n",
        "    if bin_search_has_region(z_dna, gene_downstream_regions):\n",
        "        in_downstream_count += 1\n",
        "        inSomewhere = True\n",
        "    if bin_search_has_region(z_dna, exon_regions):\n",
        "        in_exon_count += 1\n",
        "        inSomewhere = True\n",
        "    if bin_search_has_region(z_dna, in_gene_regions):\n",
        "        in_dna_count += 1\n",
        "        inSomewhere = True\n",
        "    if not inSomewhere:\n",
        "        in_intergenic_count += 1\n",
        "\n",
        "z_dna_count = len(z_dna_grouped)\n",
        "print(f\"In exons:\", in_exon_count, \"доля:\", in_exon_count / z_dna_count)\n",
        "print(f\"In promoters:\", in_promoter_count, \"доля:\", in_promoter_count / z_dna_count)\n",
        "print(f\"In downstream:\", in_downstream_count, \"доля:\", in_downstream_count / z_dna_count)\n",
        "print(f\"In intergenic space:\", in_intergenic_count, \"доля:\", in_intergenic_count / z_dna_count)\n",
        "print(f\"In dna:\", in_dna_count, \"доля:\", in_dna_count / z_dna_count)\n",
        "\n",
        ""
      ]
    },
    {
      "cell_type": "code",
      "execution_count": 18,
      "metadata": {
        "colab": {
          "base_uri": "https://localhost:8080/"
        },
        "id": "O-gPADD_qzop",
        "outputId": "354f087e-80c8-4c0f-9bb7-89169be63677"
      },
      "outputs": [
        {
          "output_type": "stream",
          "name": "stdout",
          "text": [
            "In exons: 196 доля: 0.044374009508716325\n",
            "In promoters: 1812 доля: 0.41023318994792846\n",
            "In downstream: 347 доля: 0.0785601086710437\n",
            "In intergenic space: 2119 доля: 0.4797373783110709\n",
            "In dna: 269 доля: 0.060901064070636175\n"
          ]
        }
      ],
      "source": [
        "in_dna_count = 0\n",
        "in_promoter_count = 0\n",
        "in_downstream_count = 0\n",
        "in_exon_count = 0\n",
        "in_intergenic_count = 0\n",
        "\n",
        "for quad in quad_on_plus:\n",
        "    inSomewhere = False\n",
        "    if bin_search_has_region(quad, gene_promoter_regions):\n",
        "        in_promoter_count += 1\n",
        "        inSomewhere = True\n",
        "    if bin_search_has_region(quad, gene_downstream_regions):\n",
        "        in_downstream_count += 1\n",
        "        inSomewhere = True\n",
        "    if bin_search_has_region(quad, exon_regions):\n",
        "        in_exon_count += 1\n",
        "        inSomewhere = True\n",
        "    if bin_search_has_region(quad, in_gene_regions):\n",
        "        in_dna_count += 1\n",
        "        inSomewhere = True\n",
        "    if not inSomewhere:\n",
        "        in_intergenic_count += 1\n",
        "\n",
        "quad_count = len(quad_on_plus)\n",
        "print(f\"In exons:\", in_exon_count, \"доля:\", in_exon_count / quad_count)\n",
        "print(f\"In promoters:\", in_promoter_count, \"доля:\", in_promoter_count / quad_count)\n",
        "print(f\"In downstream:\", in_downstream_count, \"доля:\", in_downstream_count / quad_count)\n",
        "print(f\"In intergenic space:\", in_intergenic_count, \"доля:\", in_intergenic_count / quad_count)\n",
        "print(f\"In dna:\", in_dna_count, \"доля:\", in_dna_count / quad_count)"
      ]
    },
    {
      "cell_type": "code",
      "source": [
        "zdnabert_res_filename = \"/content/text_predictions.txt\"\n",
        "\n",
        "z_dna_datas = []\n",
        "global_offset = 0\n",
        "chrom_idx = 0\n",
        "with open(zdnabert_res_filename, 'r') as f:\n",
        "    f.readline()\n",
        "    for line in f:\n",
        "        if line.startswith(\"CM\"):\n",
        "            continue\n",
        "        if line.strip().startswith(\"start\"):\n",
        "            global_offset += chromosome_sizes[chrom_idx]\n",
        "            chrom_idx += 1\n",
        "            continue\n",
        "\n",
        "        data = line.strip().split()\n",
        "        data = list(map(int, line.split()[:2]))\n",
        "        data[0] += global_offset\n",
        "        data[1] += global_offset\n",
        "        z_dna_datas.append(data)\n",
        "\n",
        "print(len(z_dna_datas))\n",
        "\n",
        "# group adjacent regions\n",
        "z_dna_grouped = list()\n",
        "z_dna_grouped.append(z_dna_datas[0])\n",
        "last_left_idx = z_dna_grouped[0][1]\n",
        "for i in range(1, len(z_dna_datas)):\n",
        "    if z_dna_datas[i][0] > z_dna_datas[i - 1][1]:\n",
        "        z_dna_grouped.append(z_dna_datas[i])\n",
        "        last_left_idx = z_dna_datas[i][1]\n",
        "    else:\n",
        "        if (z_dna_datas[i][0] > last_left_idx):\n",
        "            last_left_idx = z_dna_datas[i][1]\n",
        "            z_dna_grouped.append(z_dna_datas[i])\n",
        "print(len(z_dna_grouped))\n",
        "# use grouped z-dnas\n",
        "z_dna_datas = z_dna_grouped"
      ],
      "metadata": {
        "colab": {
          "base_uri": "https://localhost:8080/"
        },
        "id": "V0vdfF-UwF5-",
        "outputId": "d6c394fa-3618-4640-e076-271754c98ecf"
      },
      "execution_count": 24,
      "outputs": [
        {
          "output_type": "stream",
          "name": "stdout",
          "text": [
            "102670\n",
            "102659\n"
          ]
        }
      ]
    },
    {
      "cell_type": "code",
      "source": [
        "in_dna_count = 0\n",
        "in_promoter_count = 0\n",
        "in_downstream_count = 0\n",
        "in_exon_count = 0\n",
        "in_intergenic_count = 0\n",
        "\n",
        "for z_dna in z_dna_datas:\n",
        "    inSomewhere = False\n",
        "    if bin_search_has_region(z_dna, gene_promoter_regions):\n",
        "        in_promoter_count += 1\n",
        "        inSomewhere = True\n",
        "    if bin_search_has_region(z_dna, gene_downstream_regions):\n",
        "        in_downstream_count += 1\n",
        "        inSomewhere = True\n",
        "    if bin_search_has_region(z_dna, exon_regions):\n",
        "        in_exon_count += 1\n",
        "        inSomewhere = True\n",
        "    if bin_search_has_region(z_dna, in_gene_regions):\n",
        "        in_dna_count += 1\n",
        "        inSomewhere = True\n",
        "    if not inSomewhere:\n",
        "        in_intergenic_count += 1\n",
        "\n",
        "z_dna_count = len(z_dna_grouped)\n",
        "print(f\"In exons:\", in_exon_count, \"доля:\", in_exon_count / z_dna_count)\n",
        "print(f\"In promoters:\", in_promoter_count, \"доля:\", in_promoter_count / z_dna_count)\n",
        "print(f\"In downstream:\", in_downstream_count, \"доля:\", in_downstream_count / z_dna_count)\n",
        "print(f\"In intergenic space:\", in_intergenic_count, \"доля:\", in_intergenic_count / z_dna_count)\n",
        "print(f\"In dna:\", in_dna_count, \"доля:\", in_dna_count / z_dna_count)"
      ],
      "metadata": {
        "colab": {
          "base_uri": "https://localhost:8080/"
        },
        "id": "2NoOR9rx0mNG",
        "outputId": "886ca640-51e7-4606-d180-f575829da336"
      },
      "execution_count": 25,
      "outputs": [
        {
          "output_type": "stream",
          "name": "stdout",
          "text": [
            "In exons: 44259 доля: 0.4311263503443439\n",
            "In promoters: 23303 доля: 0.22699422359461907\n",
            "In downstream: 4755 доля: 0.04631839390603844\n",
            "In intergenic space: 32868 доля: 0.32016676570003605\n",
            "In dna: 45685 доля: 0.4450169980225796\n"
          ]
        }
      ]
    }
  ],
  "metadata": {
    "colab": {
      "provenance": []
    },
    "kernelspec": {
      "display_name": "Python 3",
      "name": "python3"
    },
    "language_info": {
      "codemirror_mode": {
        "name": "ipython",
        "version": 3
      },
      "file_extension": ".py",
      "mimetype": "text/x-python",
      "name": "python",
      "nbconvert_exporter": "python",
      "pygments_lexer": "ipython3",
      "version": "3.11.9"
    }
  },
  "nbformat": 4,
  "nbformat_minor": 0
}